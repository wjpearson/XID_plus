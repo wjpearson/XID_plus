{
 "cells": [
  {
   "cell_type": "markdown",
   "metadata": {
    "slideshow": {
     "slide_type": "subslide"
    }
   },
   "source": [
    "# XID+ Example Run Script\n",
    "\n",
    "(This is based on a Jupyter notebook, available in the [XID+ package](https://github.com/H-E-L-P/XID_plus/tree/master/docs/notebooks/examples/) and can be interactively run and edited)\n",
    "\n",
    "XID+ is a probababilistic deblender for confusion dominated maps. It is designed to:\n",
    "\n",
    "1. Use a MCMC based approach to get FULL posterior\n",
    "2. Provide a natural framework to introduce additional prior information\n",
    "3. Allows more accurate estimate of flux density errors for each source\n",
    "4. Provides a platform for doing science with the maps (e.g XID+ Hierarchical stacking, Luminosity function from the map etc)"
   ]
  },
  {
   "cell_type": "markdown",
   "metadata": {
    "slideshow": {
     "slide_type": "notes"
    }
   },
   "source": [
    "Cross-identification tends to be done with catalogues, then science with the matched catalogues.\n",
    "\n",
    "XID+ takes a different philosophy. Catalogues are a form of data compression. OK in some cases, not so much in others, i.e. confused images: catalogue compression loses correlation information. Ideally, science should be done without compression.\n",
    "\n",
    "XID+ provides a framework to cross identify galaxies we know about in different maps, with the idea that it can be extended to do science with the maps!!\n"
   ]
  },
  {
   "cell_type": "markdown",
   "metadata": {
    "slideshow": {
     "slide_type": "fragment"
    }
   },
   "source": [
    "Philosophy: \n",
    "\n",
    "- build a probabilistic generative model for the SPIRE maps\n",
    "- Infer model on SPIRE maps\n",
    "\n",
    "Bayes Theorem\n",
    "\n",
    "$p(\\mathbf{f}|\\mathbf{d}) \\propto p(\\mathbf{d}|\\mathbf{f}) \\times p(\\mathbf{f})$\n",
    "\n",
    "In order to carry out Bayesian inference, we need a model to carry out inference on.\n",
    "\n",
    "For the SPIRE maps, our model is quite simple, with likelihood defined as:\n",
    "    $L = p(\\mathbf{d}|\\mathbf{f}) \\propto |\\mathbf{N_d}|^{-1/2} \\exp\\big\\{ -\\frac{1}{2}(\\mathbf{d}-\\mathbf{Af})^T\\mathbf{N_d}^{-1}(\\mathbf{d}-\\mathbf{Af})\\big\\}$\n",
    "\n",
    "where:\n",
    "    $\\mathbf{N_{d,ii}} =\\sigma_{inst.,ii}^2+\\sigma_{conf.}^2$"
   ]
  },
  {
   "cell_type": "markdown",
   "metadata": {
    "slideshow": {
     "slide_type": "notes"
    }
   },
   "source": [
    "Simplest model for XID+ assumes following:\n",
    "\n",
    "* All sources are known and have positive flux (fi)\n",
    "* A global background (B) contributes to all pixels \n",
    "* PRF is fixed and known\n",
    "* Confusion noise is constant and not correlated across pixels\n",
    "----\n",
    "Because we are getting the joint probability distribution, our model is generative:\n",
    "    \n",
    "* Given parameters, we generate data and vica-versa\n",
    "    \n",
    "Compared to discriminative model (i.e. neural network), which only obtains conditional probability distribution:\n",
    "\n",
    "* Neural network, give inputs, get output. Can't go other way'\n",
    "\n",
    "Generative model is full probabilistic model. Allows more complex relationships between observed and target variables\n"
   ]
  },
  {
   "cell_type": "markdown",
   "metadata": {
    "slideshow": {
     "slide_type": "slide"
    }
   },
   "source": [
    "###  XID+ SPIRE\n",
    "XID+ applied to GALFORM simulation of COSMOS field"
   ]
  },
  {
   "cell_type": "markdown",
   "metadata": {
    "slideshow": {
     "slide_type": "notes"
    }
   },
   "source": [
    "* SAM simulation (with dust) ran through SMAP pipeline_ similar depth and size as COSMOS\n",
    "* Use galaxies with an observed 100 micron flux of gt. $50\\mathbf{\\mu Jy}$. Gives 64823 sources\n",
    "* Uninformative prior: uniform $0 - 10{^3} \\mathbf{mJy}$\n"
   ]
  },
  {
   "cell_type": "markdown",
   "metadata": {},
   "source": [
    "Import required modules"
   ]
  },
  {
   "cell_type": "code",
   "execution_count": 2,
   "metadata": {
    "slideshow": {
     "slide_type": "skip"
    }
   },
   "outputs": [],
   "source": [
    "from astropy.io import ascii, fits\n",
    "import pylab as plt\n",
    "%matplotlib inline\n",
    "from astropy import wcs\n",
    "\n",
    "import sys\n",
    "sys.path.append('/home/pearsonw/dev/XID_plus/')\n",
    "\n",
    "import numpy as np\n",
    "import xidplus\n",
    "from xidplus import moc_routines\n",
    "import pickle"
   ]
  },
  {
   "cell_type": "markdown",
   "metadata": {
    "collapsed": true
   },
   "source": [
    "Set image and catalogue filenames"
   ]
  },
  {
   "cell_type": "code",
   "execution_count": 3,
   "metadata": {},
   "outputs": [
    {
     "data": {
      "text/plain": [
       "'/home/pearsonw/dev/XID_plus/xidplus'"
      ]
     },
     "execution_count": 3,
     "metadata": {},
     "output_type": "execute_result"
    }
   ],
   "source": [
    "xidplus.__path__[0]"
   ]
  },
  {
   "cell_type": "code",
   "execution_count": 4,
   "metadata": {},
   "outputs": [],
   "source": [
    "#Folder containing maps\n",
    "imfolder=xidplus.__path__[0]+'/../test_files/'\n",
    "\n",
    "pswfits=imfolder+'cosmos_itermap_lacey_07012015_simulated_observation_w_noise_PSW_hipe.fits.gz'#SPIRE 250 map\n",
    "pmwfits=imfolder+'cosmos_itermap_lacey_07012015_simulated_observation_w_noise_PMW_hipe.fits.gz'#SPIRE 350 map\n",
    "plwfits=imfolder+'cosmos_itermap_lacey_07012015_simulated_observation_w_noise_PLW_hipe.fits.gz'#SPIRE 500 map\n",
    "\n",
    "\n",
    "#Folder containing prior input catalogue\n",
    "catfolder=xidplus.__path__[0]+'/../test_files/'\n",
    "#prior catalogue\n",
    "prior_cat='lacey_07012015_MillGas.ALLVOLS_cat_PSW_COSMOS_test.fits'\n",
    "\n",
    "\n",
    "#output folder\n",
    "output_folder='./'"
   ]
  },
  {
   "cell_type": "markdown",
   "metadata": {},
   "source": [
    "Load in images, noise maps, header info and WCS information"
   ]
  },
  {
   "cell_type": "code",
   "execution_count": 5,
   "metadata": {},
   "outputs": [],
   "source": [
    "#-----250-------------\n",
    "hdulist = fits.open(pswfits)\n",
    "im250phdu=hdulist[0].header\n",
    "im250hdu=hdulist[1].header\n",
    "\n",
    "im250=hdulist[1].data*1.0E3 #convert to mJy\n",
    "nim250=hdulist[2].data*1.0E3 #convert to mJy\n",
    "w_250 = wcs.WCS(hdulist[1].header)\n",
    "pixsize250=3600.0*w_250.wcs.cd[1,1] #pixel size (in arcseconds)\n",
    "hdulist.close()\n",
    "#-----350-------------\n",
    "hdulist = fits.open(pmwfits)\n",
    "im350phdu=hdulist[0].header\n",
    "im350hdu=hdulist[1].header\n",
    "\n",
    "im350=hdulist[1].data*1.0E3 #convert to mJy\n",
    "nim350=hdulist[2].data*1.0E3 #convert to mJy\n",
    "w_350 = wcs.WCS(hdulist[1].header)\n",
    "pixsize350=3600.0*w_350.wcs.cd[1,1] #pixel size (in arcseconds)\n",
    "hdulist.close()\n",
    "#-----500-------------\n",
    "hdulist = fits.open(plwfits)\n",
    "im500phdu=hdulist[0].header\n",
    "im500hdu=hdulist[1].header \n",
    "im500=hdulist[1].data*1.0E3 #convert to mJy\n",
    "nim500=hdulist[2].data*1.0E3 #convert to mJy\n",
    "w_500 = wcs.WCS(hdulist[1].header)\n",
    "pixsize500=3600.0*w_500.wcs.cd[1,1] #pixel size (in arcseconds)\n",
    "hdulist.close()"
   ]
  },
  {
   "cell_type": "markdown",
   "metadata": {},
   "source": [
    "Load in catalogue you want to fit (and make any cuts)"
   ]
  },
  {
   "cell_type": "code",
   "execution_count": 6,
   "metadata": {},
   "outputs": [],
   "source": [
    "hdulist = fits.open(catfolder+prior_cat)\n",
    "fcat=hdulist[1].data\n",
    "hdulist.close()\n",
    "inra=fcat['RA']\n",
    "indec=fcat['DEC']\n",
    "# select only sources with 100micron flux greater than 50 microJy\n",
    "sgood=fcat['S100']>0.050\n",
    "inra=inra[sgood]\n",
    "indec=indec[sgood]"
   ]
  },
  {
   "cell_type": "markdown",
   "metadata": {},
   "source": [
    "XID+ uses Multi Order Coverage (MOC) maps for cutting down maps and catalogues so they cover the same area. It can also take in MOCs as selection functions to carry out additional cuts. Lets use the python module [pymoc](http://pymoc.readthedocs.io/en/latest/) to create a MOC, centered on a specific position we are interested in. We will use a HEALPix order of 15 (the resolution: higher order means higher resolution), have a radius of 100 arcseconds centered around an R.A. of 150.74 degrees and Declination of 2.03 degrees."
   ]
  },
  {
   "cell_type": "code",
   "execution_count": 7,
   "metadata": {},
   "outputs": [],
   "source": [
    "from astropy.coordinates import SkyCoord\n",
    "from astropy import units as u\n",
    "c = SkyCoord(ra=[150.74]*u.degree, dec=[2.03]*u.degree)  \n",
    "import pymoc\n",
    "moc=pymoc.util.catalog.catalog_to_moc(c,100,15)"
   ]
  },
  {
   "cell_type": "markdown",
   "metadata": {},
   "source": [
    "XID+ is built around two python classes. A prior and posterior class. There should be a prior class for each map being fitted. It is initiated with a map, noise map, primary header and map header and can be set with a MOC. It also requires an input prior catalogue and point spread function.\n"
   ]
  },
  {
   "cell_type": "code",
   "execution_count": 8,
   "metadata": {},
   "outputs": [],
   "source": [
    "#---prior250--------\n",
    "prior250=xidplus.prior(im250,nim250,im250phdu,im250hdu, moc=moc)#Initialise with map, uncertianty map, wcs info and primary header\n",
    "prior250.prior_cat(inra,indec,prior_cat)#Set input catalogue\n",
    "prior250.prior_bkg(-5.0,5)#Set prior on background (assumes Gaussian pdf with mu and sigma)\n",
    "#---prior350--------\n",
    "prior350=xidplus.prior(im350,nim350,im350phdu,im350hdu, moc=moc)\n",
    "prior350.prior_cat(inra,indec,prior_cat)\n",
    "prior350.prior_bkg(-5.0,5)\n",
    "\n",
    "#---prior500--------\n",
    "prior500=xidplus.prior(im500,nim500,im500phdu,im500hdu, moc=moc)\n",
    "prior500.prior_cat(inra,indec,prior_cat)\n",
    "prior500.prior_bkg(-5.0,5)"
   ]
  },
  {
   "cell_type": "markdown",
   "metadata": {},
   "source": [
    "Set PSF. For SPIRE, the PSF can be assumed to be Gaussian with a FWHM of 18.15, 25.15, 36.3 '' for 250, 350 and 500 $\\mathrm{\\mu m}$ respectively. Lets use the astropy module to construct a Gaussian PSF and assign it to the three XID+ prior classes."
   ]
  },
  {
   "cell_type": "code",
   "execution_count": 9,
   "metadata": {},
   "outputs": [],
   "source": [
    "#pixsize array (size of pixels in arcseconds)\n",
    "pixsize=np.array([pixsize250,pixsize350,pixsize500])\n",
    "#point response function for the three bands\n",
    "prfsize=np.array([18.15,25.15,36.3])\n",
    "#use Gaussian2DKernel to create prf (requires stddev rather than fwhm hence pfwhm/2.355)\n",
    "from astropy.convolution import Gaussian2DKernel\n",
    "\n",
    "##---------fit using Gaussian beam-----------------------\n",
    "prf250=Gaussian2DKernel(prfsize[0]/2.355,x_size=101,y_size=101)\n",
    "prf250.normalize(mode='peak')\n",
    "prf350=Gaussian2DKernel(prfsize[1]/2.355,x_size=101,y_size=101)\n",
    "prf350.normalize(mode='peak')\n",
    "prf500=Gaussian2DKernel(prfsize[2]/2.355,x_size=101,y_size=101)\n",
    "prf500.normalize(mode='peak')\n",
    "\n",
    "pind250=np.arange(0,101,1)*1.0/pixsize[0] #get 250 scale in terms of pixel scale of map\n",
    "pind350=np.arange(0,101,1)*1.0/pixsize[1] #get 350 scale in terms of pixel scale of map\n",
    "pind500=np.arange(0,101,1)*1.0/pixsize[2] #get 500 scale in terms of pixel scale of map\n",
    "\n",
    "prior250.set_prf(prf250.array,pind250,pind250)#requires psf as 2d grid, and x and y bins for grid (in pixel scale)\n",
    "prior350.set_prf(prf350.array,pind350,pind350)\n",
    "prior500.set_prf(prf500.array,pind500,pind500)"
   ]
  },
  {
   "cell_type": "code",
   "execution_count": 10,
   "metadata": {},
   "outputs": [
    {
     "name": "stdout",
     "output_type": "stream",
     "text": [
      "fitting 51 sources \n",
      "\n",
      "using 870, 870 and 219 pixels\n"
     ]
    }
   ],
   "source": [
    "print('fitting '+ str(prior250.nsrc)+' sources \\n')\n",
    "print('using ' +  str(prior250.snpix)+', '+ str(prior250.snpix)+' and '+ str(prior500.snpix)+' pixels')\n"
   ]
  },
  {
   "cell_type": "markdown",
   "metadata": {},
   "source": [
    "Before fitting, the prior classes need to take the PSF and calculate how muich each source contributes to each pixel. This process provides what we call a pointing matrix. Lets calculate the pointing matrix for each prior class"
   ]
  },
  {
   "cell_type": "code",
   "execution_count": 11,
   "metadata": {},
   "outputs": [],
   "source": [
    "prior250.get_pointing_matrix()\n",
    "prior350.get_pointing_matrix()\n",
    "prior500.get_pointing_matrix()\n"
   ]
  },
  {
   "cell_type": "markdown",
   "metadata": {},
   "source": [
    "Default prior on flux is a uniform distribution, with a minimum and maximum of 0.00 and 1000.0 $\\mathrm{mJy}$ respectively for each source. running the function upper_lim _map resets the upper limit to the maximum flux value (plus a 5 sigma Background value) found in the map in which the source makes a contribution to."
   ]
  },
  {
   "cell_type": "code",
   "execution_count": 12,
   "metadata": {},
   "outputs": [],
   "source": [
    "prior250.upper_lim_map()\n",
    "prior350.upper_lim_map()\n",
    "prior500.upper_lim_map()"
   ]
  },
  {
   "cell_type": "markdown",
   "metadata": {},
   "source": [
    "Now fit using the XID+ interface to pystan"
   ]
  },
  {
   "cell_type": "code",
   "execution_count": 13,
   "metadata": {},
   "outputs": [
    {
     "name": "stdout",
     "output_type": "stream",
     "text": [
      "/XID+SPIRE found. Reusing\n"
     ]
    }
   ],
   "source": [
    "from xidplus.stan_fit import SPIRE\n",
    "fit_basic=SPIRE.all_bands(prior250,prior350,prior500,iter=1000)\n"
   ]
  },
  {
   "cell_type": "markdown",
   "metadata": {},
   "source": [
    "Initialise the posterior class with the fit object from pystan, and save alongside the prior classes"
   ]
  },
  {
   "cell_type": "code",
   "execution_count": 14,
   "metadata": {},
   "outputs": [],
   "source": [
    "posterior=xidplus.posterior_stan(fit_basic,[prior250,prior350,prior500])\n",
    "#xidplus.save([prior250,prior350,prior500],posterior,'XID+SPIRE')"
   ]
  },
  {
   "cell_type": "code",
   "execution_count": 15,
   "metadata": {},
   "outputs": [
    {
     "data": {
      "image/png": "[encoded data removed]",
      "text/plain": [
       "<Figure size 432x288 with 1 Axes>"
      ]
     },
     "metadata": {
      "needs_background": "light"
     },
     "output_type": "display_data"
    }
   ],
   "source": [
    "plt.hist(np.log10(fcat['S100'][sgood]), bins=np.arange(-3,3, 0.1));"
   ]
  },
  {
   "cell_type": "code",
   "execution_count": 16,
   "metadata": {},
   "outputs": [
    {
     "ename": "FileNotFoundError",
     "evalue": "[Errno 2] No such file or directory: './SED_SPIRE_PACS100.npy'",
     "output_type": "error",
     "traceback": [
      "\u001b[0;31m---------------------------------------------------------------------------\u001b[0m",
      "\u001b[0;31mFileNotFoundError\u001b[0m                         Traceback (most recent call last)",
      "\u001b[0;32m<ipython-input-16-2e7240f8d60a>\u001b[0m in \u001b[0;36m<module>\u001b[0;34m\u001b[0m\n\u001b[0;32m----> 1\u001b[0;31m \u001b[0mSEDs\u001b[0m\u001b[0;34m=\u001b[0m\u001b[0mnp\u001b[0m\u001b[0;34m.\u001b[0m\u001b[0mload\u001b[0m\u001b[0;34m(\u001b[0m\u001b[0;34m'./SED_SPIRE_PACS100.npy'\u001b[0m\u001b[0;34m)\u001b[0m\u001b[0;34m\u001b[0m\u001b[0;34m\u001b[0m\u001b[0m\n\u001b[0m",
      "\u001b[0;32m~/.local/lib/python3.8/site-packages/numpy/lib/npyio.py\u001b[0m in \u001b[0;36mload\u001b[0;34m(file, mmap_mode, allow_pickle, fix_imports, encoding)\u001b[0m\n\u001b[1;32m    388\u001b[0m             \u001b[0mown_fid\u001b[0m \u001b[0;34m=\u001b[0m \u001b[0;32mFalse\u001b[0m\u001b[0;34m\u001b[0m\u001b[0;34m\u001b[0m\u001b[0m\n\u001b[1;32m    389\u001b[0m         \u001b[0;32melse\u001b[0m\u001b[0;34m:\u001b[0m\u001b[0;34m\u001b[0m\u001b[0;34m\u001b[0m\u001b[0m\n\u001b[0;32m--> 390\u001b[0;31m             \u001b[0mfid\u001b[0m \u001b[0;34m=\u001b[0m \u001b[0mstack\u001b[0m\u001b[0;34m.\u001b[0m\u001b[0menter_context\u001b[0m\u001b[0;34m(\u001b[0m\u001b[0mopen\u001b[0m\u001b[0;34m(\u001b[0m\u001b[0mos_fspath\u001b[0m\u001b[0;34m(\u001b[0m\u001b[0mfile\u001b[0m\u001b[0;34m)\u001b[0m\u001b[0;34m,\u001b[0m \u001b[0;34m\"rb\"\u001b[0m\u001b[0;34m)\u001b[0m\u001b[0;34m)\u001b[0m\u001b[0;34m\u001b[0m\u001b[0;34m\u001b[0m\u001b[0m\n\u001b[0m\u001b[1;32m    391\u001b[0m             \u001b[0mown_fid\u001b[0m \u001b[0;34m=\u001b[0m \u001b[0;32mTrue\u001b[0m\u001b[0;34m\u001b[0m\u001b[0;34m\u001b[0m\u001b[0m\n\u001b[1;32m    392\u001b[0m \u001b[0;34m\u001b[0m\u001b[0m\n",
      "\u001b[0;31mFileNotFoundError\u001b[0m: [Errno 2] No such file or directory: './SED_SPIRE_PACS100.npy'"
     ]
    }
   ],
   "source": [
    "SEDs=np.load('./SED_SPIRE_PACS100.npy')"
   ]
  },
  {
   "cell_type": "code",
   "execution_count": null,
   "metadata": {},
   "outputs": [],
   "source": [
    "data={  \n",
    "'nsrc':prior250.nsrc,\n",
    "'bkg_prior':[prior250.bkg[0],prior350.bkg[0],prior500.bkg[0]],\n",
    "'bkg_prior_sig':[prior250.bkg[1],prior350.bkg[1],prior500.bkg[1]],\n",
    "'z':fcat['Z_OBS'][sgood][prior250.ID-1],\n",
    "'z_sig':fcat['Z_OBS'][sgood][prior250.ID-1]/10.0,\n",
    "'npix_psw':prior250.snpix,\n",
    "'nnz_psw':prior250.amat_data.size,\n",
    "'db_psw':prior250.sim,\n",
    "'sigma_psw':prior250.snim,\n",
    "'Val_psw':prior250.amat_data,\n",
    "'Row_psw': prior250.amat_row.astype(np.long),\n",
    "'Col_psw': prior250.amat_col.astype(np.long),\n",
    "'npix_pmw':prior350.snpix,\n",
    "'nnz_pmw':prior350.amat_data.size,\n",
    "'db_pmw':prior350.sim,\n",
    "'sigma_pmw':prior350.snim,\n",
    "'Val_pmw':prior350.amat_data,\n",
    "'Row_pmw': prior350.amat_row.astype(np.long),\n",
    "'Col_pmw': prior350.amat_col.astype(np.long),\n",
    "'npix_plw':prior500.snpix,\n",
    "'nnz_plw':prior500.amat_data.size,\n",
    "'db_plw':prior500.sim,\n",
    "'sigma_plw':prior500.snim,\n",
    "'Val_plw':prior500.amat_data,\n",
    "'Row_plw': prior500.amat_row.astype(np.long),\n",
    "'Col_plw': prior500.amat_col.astype(np.long),\n",
    "'nTemp':SEDs.shape[0],\n",
    "'nz':SEDs.shape[2],\n",
    "'nband':SEDs.shape[1],\n",
    "'SEDs':SEDs,\n",
    "'src_f_obs':fcat['S100'][sgood][prior250.ID-1][:,None],\n",
    "'src_f_sig':fcat['S100'][sgood][prior250.ID-1][:,None]/20.0,\n",
    "'src_f_cut': np.array([0.050])\n",
    "}"
   ]
  },
  {
   "cell_type": "code",
   "execution_count": null,
   "metadata": {},
   "outputs": [],
   "source": [
    "import pystan\n",
    "sm=pystan.StanModel(file='/home/pearsonw/dev/XID_plus/stan_models/XID+SED.stan')"
   ]
  },
  {
   "cell_type": "code",
   "execution_count": null,
   "metadata": {},
   "outputs": [],
   "source": [
    "fit=sm.sampling(data=data,verbose=True)"
   ]
  },
  {
   "cell_type": "code",
   "execution_count": null,
   "metadata": {},
   "outputs": [],
   "source": [
    "fit"
   ]
  },
  {
   "cell_type": "code",
   "execution_count": null,
   "metadata": {},
   "outputs": [],
   "source": [
    "samples=fit.extract()"
   ]
  },
  {
   "cell_type": "code",
   "execution_count": null,
   "metadata": {},
   "outputs": [],
   "source": [
    "import seaborn as sns\n",
    "sns.set(color_codes=True)\n",
    "import pandas as pd\n",
    "sns.set_style(\"white\")"
   ]
  },
  {
   "cell_type": "code",
   "execution_count": null,
   "metadata": {},
   "outputs": [],
   "source": [
    "s1=5\n",
    "df = pd.DataFrame(np.vstack((samples['Nbb'][:,s1],samples['src_f'][:,s1,0],samples['src_f'][:,s1,1],samples['src_f'][:,s1,2],samples['src_f'][:,s1,3])).T,columns=['Nbb','S250', 'S350','S500','S100'])\n",
    "g = sns.PairGrid(df,size=5)\n",
    "g.map_diag(plt.hist)\n",
    "g.map_lower(sns.kdeplot, cmap=\"Reds_d\",alpha=0.5,n_levels=10,normed=True)\n",
    "\n",
    "\n",
    "\n",
    "\n",
    "for i in g.axes[:,1]: i.axvline(x=fcat['S250'][sgood][prior250.ID-1][s1],c='g',linestyle='--')\n",
    "for i in g.axes[1,[0]]: i.axhline(y=fcat['S250'][sgood][prior250.ID-1][s1],c='g',linestyle='--')\n",
    "for i in g.axes[:,2]: i.axvline(x=fcat['S350'][sgood][prior250.ID-1][s1],c='g',linestyle='--')\n",
    "for i in g.axes[2,[0,1]]: i.axhline(y=fcat['S350'][sgood][prior250.ID-1][s1],c='g',linestyle='--')  \n",
    "for i in g.axes[:,3]: i.axvline(x=fcat['S500'][sgood][prior250.ID-1][s1],c='g',linestyle='--')\n",
    "for i in g.axes[3,[0,1,2]]: i.axhline(y=fcat['S500'][sgood][prior250.ID-1][s1],c='g',linestyle='--') \n",
    "for i in g.axes[:,4]: i.axvline(x=fcat['S100'][sgood][prior250.ID-1][s1],c='g',linestyle='--')\n",
    "for i in g.axes[4,[0,1,2,3,]]: i.axhline(y=fcat['S100'][sgood][prior250.ID-1][s1],c='g',linestyle='--')"
   ]
  },
  {
   "cell_type": "code",
   "execution_count": null,
   "metadata": {},
   "outputs": [],
   "source": [
    "s1=17\n",
    "df = pd.DataFrame(np.vstack((samples['src_f'][:,s1,0],samples['src_f'][:,s1,1],samples['src_f'][:,s1,2])).T,columns=['S250', 'S350','S500'])\n",
    "g = sns.PairGrid(df,size=5)\n",
    "g.map_diag(sns.kdeplot)\n",
    "g.map_lower(sns.kdeplot, cmap=\"Reds_d\",alpha=0.5,n_levels=10,normed=True)\n",
    "g.map_upper(plt.scatter,color='red',alpha=0.1)\n",
    "g.data=pd.DataFrame(np.vstack((posterior.samples['src_f'][:,0,s1],posterior.samples['src_f'][:,1,s1],posterior.samples['src_f'][:,2,s1])).T,columns=['S250', 'S350','S500'])\n",
    "\n",
    "g.map_diag(sns.kdeplot)\n",
    "g.map_lower(sns.kdeplot, cmap=\"Blues_d\",alpha=0.5,n_levels=10,normed=True)\n",
    "g.map_upper(plt.scatter,color='blue',alpha=0.1)\n",
    "\n",
    "\n",
    "\n",
    "for i in g.axes[:,0]: i.axvline(x=fcat['S250'][sgood][prior250.ID-1][s1],c='g',linestyle='--')\n",
    "for i in g.axes[0,[1,2]]: i.axhline(y=fcat['S250'][sgood][prior250.ID-1][s1],c='g',linestyle='--')\n",
    "for i in g.axes[:,1]: i.axvline(x=fcat['S350'][sgood][prior250.ID-1][s1],c='g',linestyle='--')\n",
    "for i in g.axes[1,[0,2]]: i.axhline(y=fcat['S350'][sgood][prior250.ID-1][s1],c='g',linestyle='--')  \n",
    "for i in g.axes[:,2]: i.axvline(x=fcat['S500'][sgood][prior250.ID-1][s1],c='g',linestyle='--')\n",
    "for i in g.axes[2,[0,1]]: i.axhline(y=fcat['S500'][sgood][prior250.ID-1][s1],c='g',linestyle='--') \n",
    "#for i in g.axes[:,4]: i.axvline(x=fcat['S100'][sgood][prior250.ID-1][s1],c='g',linestyle='--')\n",
    "#for i in g.axes[4,[0,1,2,3,]]: i.axhline(y=fcat['S100'][sgood][prior250.ID-1][s1],c='g',linestyle='--')"
   ]
  },
  {
   "cell_type": "code",
   "execution_count": null,
   "metadata": {},
   "outputs": [],
   "source": [
    "posterior.samples['src_f'].shape"
   ]
  },
  {
   "cell_type": "code",
   "execution_count": null,
   "metadata": {},
   "outputs": [],
   "source": [
    "plt.plot(np.log10(samples['src_f'][:,28,0]))"
   ]
  },
  {
   "cell_type": "code",
   "execution_count": null,
   "metadata": {},
   "outputs": [],
   "source": [
    "plt.plot(samples['lp__'])"
   ]
  },
  {
   "cell_type": "code",
   "execution_count": null,
   "metadata": {},
   "outputs": [],
   "source": [
    "from xidplus import plots\n",
    "maps=plots.plot_map([prior250,prior350,prior500])"
   ]
  },
  {
   "cell_type": "code",
   "execution_count": null,
   "metadata": {},
   "outputs": [],
   "source": [
    "for i in np.arange(0,prior250.nsrc):\n",
    "    maps[0][0].add_label(prior250.sra[i], prior250.sdec[i]+0.0005, str(i), relative=False,size=20,color='white')\n"
   ]
  },
  {
   "cell_type": "code",
   "execution_count": null,
   "metadata": {},
   "outputs": [],
   "source": [
    "i=22\n",
    "maps[0][1].add_label(prior250.sra[i], prior250.sdec[i]+0.0005, str(i), relative=False,size=20,color='white')\n",
    "i=26\n",
    "maps[0][2].add_label(prior250.sra[i], prior250.sdec[i]+0.0005, str(i), relative=False,size=20,color='white')\n"
   ]
  },
  {
   "cell_type": "code",
   "execution_count": null,
   "metadata": {},
   "outputs": [],
   "source": [
    "maps[1]"
   ]
  },
  {
   "cell_type": "code",
   "execution_count": null,
   "metadata": {},
   "outputs": [],
   "source": [
    "df = pd.DataFrame(samples['src_f'][:,[28,22],0],columns=['S250 28','S250 26'])\n",
    "g = sns.PairGrid(df,size=5)\n",
    "g.map_diag(plt.hist)\n",
    "g.map_lower(sns.kdeplot, cmap=\"Reds_d\",alpha=1.0,n_levels=10,normed=True)\n"
   ]
  },
  {
   "cell_type": "code",
   "execution_count": null,
   "metadata": {},
   "outputs": [],
   "source": [
    "fcat['Z_OBS'][sgood][prior250.ID-1][39]"
   ]
  },
  {
   "cell_type": "code",
   "execution_count": null,
   "metadata": {},
   "outputs": [],
   "source": [
    "fcat[[sgood][prior250.ID-1][21]"
   ]
  },
  {
   "cell_type": "code",
   "execution_count": null,
   "metadata": {},
   "outputs": [],
   "source": [
    "fcat.columns"
   ]
  },
  {
   "cell_type": "code",
   "execution_count": null,
   "metadata": {},
   "outputs": [],
   "source": [
    "import pandas as pd"
   ]
  },
  {
   "cell_type": "code",
   "execution_count": null,
   "metadata": {},
   "outputs": [],
   "source": [
    "SEDS_full=pd.read_pickle('./SEDS_full.pkl')"
   ]
  },
  {
   "cell_type": "code",
   "execution_count": null,
   "metadata": {},
   "outputs": [],
   "source": [
    "from astropy.cosmology import Planck13\n",
    "import astropy.units as u\n",
    "\n",
    "div=(4.0*np.pi * np.square(Planck13.luminosity_distance(z).cgs))\n",
    "div=div.value"
   ]
  },
  {
   "cell_type": "code",
   "execution_count": null,
   "metadata": {},
   "outputs": [],
   "source": [
    "s1=17\n",
    "z=fcat['Z_OBS'][sgood][prior250.ID-1][s1]\n",
    "div=(4.0*np.pi * np.square(Planck13.luminosity_distance(z).cgs))\n",
    "div=div.value\n",
    "for s in range(0,4000,10):\n",
    "    plt.loglog((z+1.0)*SEDS_full['wave'],\n",
    "           np.power(10.0,samples['Nbb'][s,s1])*(1.0+z)\n",
    "           *SEDS_full[SEDS_full.columns[np.arange(1,samples['p'].shape[2]+1)\n",
    "                                        [np.random.multinomial(1, samples['p'][s,s1,:])==1]]]/div,alpha=0.1,c='b')\n",
    "    plt.plot([250,350,500, 100],samples['src_f'][s,s1,0:4], 'go', alpha=0.1)\n",
    "plt.plot([250,350,500, 100],np.array([fcat['S250'][sgood][prior250.ID-1][s1],fcat['S350'][sgood][prior250.ID-1][s1],\n",
    "         fcat['S500'][sgood][prior250.ID-1][s1],fcat['S100'][sgood][prior250.ID-1][s1]]), 'ro')\n"
   ]
  },
  {
   "cell_type": "code",
   "execution_count": null,
   "metadata": {},
   "outputs": [],
   "source": []
  },
  {
   "cell_type": "code",
   "execution_count": null,
   "metadata": {
    "collapsed": true
   },
   "outputs": [],
   "source": []
  }
 ],
 "metadata": {
  "celltoolbar": "Slideshow",
  "kernelspec": {
   "display_name": "Python 3",
   "language": "python",
   "name": "python3"
  },
  "language_info": {
   "codemirror_mode": {
    "name": "ipython",
    "version": 3
   },
   "file_extension": ".py",
   "mimetype": "text/x-python",
   "name": "python",
   "nbconvert_exporter": "python",
   "pygments_lexer": "ipython3",
   "version": "3.8.10"
  }
 },
 "nbformat": 4,
 "nbformat_minor": 1
}
